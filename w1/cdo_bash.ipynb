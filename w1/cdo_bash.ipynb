{
 "cells": [
  {
   "cell_type": "code",
   "execution_count": 1,
   "metadata": {
    "scrolled": true
   },
   "outputs": [
    {
     "name": "stdout",
     "output_type": "stream",
     "text": [
      "netcdf pr_ensmean_rcp45_SMHI-RCA4_v1_day_EAfrica_mmpday {\n",
      "dimensions:\n",
      "\ttime = UNLIMITED ; // (34675 currently)\n",
      "\tbnds = 2 ;\n",
      "\trlon = 52 ;\n",
      "\trlat = 77 ;\n",
      "variables:\n",
      "\tdouble time(time) ;\n",
      "\t\ttime:standard_name = \"time\" ;\n",
      "\t\ttime:long_name = \"time\" ;\n",
      "\t\ttime:bounds = \"time_bnds\" ;\n",
      "\t\ttime:units = \"days since 1949-12-01 00:00:00\" ;\n",
      "\t\ttime:calendar = \"365_day\" ;\n",
      "\t\ttime:axis = \"T\" ;\n",
      "\tdouble time_bnds(time, bnds) ;\n",
      "\tdouble lon(rlat, rlon) ;\n",
      "\t\tlon:standard_name = \"longitude\" ;\n",
      "\t\tlon:long_name = \"longitude\" ;\n",
      "\t\tlon:units = \"degrees_east\" ;\n",
      "\t\tlon:_CoordinateAxisType = \"Lon\" ;\n",
      "\tdouble lat(rlat, rlon) ;\n",
      "\t\tlat:standard_name = \"latitude\" ;\n",
      "\t\tlat:long_name = \"latitude\" ;\n",
      "\t\tlat:units = \"degrees_north\" ;\n",
      "\t\tlat:_CoordinateAxisType = \"Lat\" ;\n",
      "\tfloat rlon(rlon) ;\n",
      "\t\trlon:standard_name = \"grid_longitude\" ;\n",
      "\t\trlon:long_name = \"longitude in rotated pole grid\" ;\n",
      "\t\trlon:units = \"degrees\" ;\n",
      "\t\trlon:axis = \"X\" ;\n",
      "\tfloat rlat(rlat) ;\n",
      "\t\trlat:standard_name = \"grid_latitude\" ;\n",
      "\t\trlat:long_name = \"latitude in rotated pole grid\" ;\n",
      "\t\trlat:units = \"degrees\" ;\n",
      "\t\trlat:axis = \"Y\" ;\n",
      "\tint rotated_pole ;\n",
      "\t\trotated_pole:grid_mapping_name = \"rotated_latitude_longitude\" ;\n",
      "\t\trotated_pole:grid_north_pole_latitude = 90. ;\n",
      "\t\trotated_pole:grid_north_pole_longitude = -180. ;\n",
      "\tfloat pr(time, rlat, rlon) ;\n",
      "\t\tpr:standard_name = \"precipitation_flux\" ;\n",
      "\t\tpr:long_name = \"Precipitation\" ;\n",
      "\t\tpr:units = \"kg m-2 s-1\" ;\n",
      "\t\tpr:grid_mapping = \"rotated_pole\" ;\n",
      "\t\tpr:coordinates = \"lat lon\" ;\n",
      "\t\tpr:_FillValue = 1.e+20f ;\n",
      "\t\tpr:missing_value = 1.e+20f ;\n",
      "\t\tpr:cell_methods = \"time: mean\" ;\n",
      "\n",
      "// global attributes:\n",
      "\t\t:CDI = \"Climate Data Interface version 1.9.2 (http://mpimet.mpg.de/cdi)\" ;\n",
      "\t\t:history = \"Tue Nov 05 14:53:23 2019: cdo ensmean pr_CCCma-CanESM2_rcp45_SMHI-RCA4_v1_day_EAfrica_mmpday.nc pr_ICHEC-EC-EARTH_rcp45_SMHI-RCA4_v1_day_EAfrica_mmpday_del29.nc pr_MPI-M-MPI-ESM-LR_rcp45_SMHI-RCA4_v1_day_EAfrica_mmpday_del29.nc pr_NOAA-GFDL-GFDL-ESM2M_rcp45_SMHI-RCA4_v1_day_EAfrica_mmpday.nc pr_ensmean_rcp45_SMHI-RCA4_v1_day_EAfrica_mmpday.nc\\n\",\n",
      "\t\t\t\"Tue Nov 05 08:31:48 2019: cdo -L -b F32 mulc,86400 pr_CCCma-CanESM2_rcp45_SMHI-RCA4_v1_day_EAfrica.nc pr_CCCma-CanESM2_rcp45_SMHI-RCA4_v1_day_EAfrica_mmpday.nc\\n\",\n",
      "\t\t\t\"Thu Apr 04 10:40:40 2019: cdo cat pr_CCCma-CanESM2_rcp45_SMHI-RCA4_v1_day_20060101-20101231_EAfrica.nc pr_CCCma-CanESM2_rcp45_SMHI-RCA4_v1_day_20110101-20151231_EAfrica.nc pr_CCCma-CanESM2_rcp45_SMHI-RCA4_v1_day_20160101-20201231_EAfrica.nc pr_CCCma-CanESM2_rcp45_SMHI-RCA4_v1_day_20210101-20251231_EAfrica.nc pr_CCCma-CanESM2_rcp45_SMHI-RCA4_v1_day_20260101-20301231_EAfrica.nc pr_CCCma-CanESM2_rcp45_SMHI-RCA4_v1_day_20310101-20351231_EAfrica.nc pr_CCCma-CanESM2_rcp45_SMHI-RCA4_v1_day_20360101-20401231_EAfrica.nc pr_CCCma-CanESM2_rcp45_SMHI-RCA4_v1_day_20410101-20451231_EAfrica.nc pr_CCCma-CanESM2_rcp45_SMHI-RCA4_v1_day_20460101-20501231_EAfrica.nc pr_CCCma-CanESM2_rcp45_SMHI-RCA4_v1_day_20510101-20551231_EAfrica.nc pr_CCCma-CanESM2_rcp45_SMHI-RCA4_v1_day_20560101-20601231_EAfrica.nc pr_CCCma-CanESM2_rcp45_SMHI-RCA4_v1_day_20610101-20651231_EAfrica.nc pr_CCCma-CanESM2_rcp45_SMHI-RCA4_v1_day_20660101-20701231_EAfrica.nc pr_CCCma-CanESM2_rcp45_SMHI-RCA4_v1_day_20710101-20751231_EAfrica.nc pr_CCCma-CanESM2_rcp45_SMHI-RCA4_v1_day_20760101-20801231_EAfrica.nc pr_CCCma-CanESM2_rcp45_SMHI-RCA4_v1_day_20810101-20851231_EAfrica.nc pr_CCCma-CanESM2_rcp45_SMHI-RCA4_v1_day_20860101-20901231_EAfrica.nc pr_CCCma-CanESM2_rcp45_SMHI-RCA4_v1_day_20910101-20951231_EAfrica.nc pr_CCCma-CanESM2_rcp45_SMHI-RCA4_v1_day_20960101-21001231_EAfrica.nc pr_CCCma-CanESM2_rcp45_SMHI-RCA4_v1_day_EAfrica.nc\\n\",\n",
      "\t\t\t\"Thu Apr 04 10:40:07 2019: cdo sellonlatbox,27,50,-17,17 pr_AFR-44_CCCma-CanESM2_rcp45_r1i1p1_SMHI-RCA4_v1_day_20060101-20101231.nc pr_CCCma-CanESM2_rcp45_SMHI-RCA4_v1_day_20060101-20101231_EAfrica.nc\" ;\n",
      "\t\t:institution = \"Swedish Meteorological and Hydrological Institute, Rossby Centre\" ;\n",
      "\t\t:Conventions = \"CF-1.4\" ;\n",
      "\t\t:contact = \"rossby.cordex@smhi.se\" ;\n",
      "\t\t:creation_date = \"2012-08-01-T16:04:30Z\" ;\n",
      "\t\t:experiment = \"RCP4.5\" ;\n",
      "\t\t:experiment_id = \"rcp45\" ;\n",
      "\t\t:driving_experiment = \"CCCma-CanESM2, rcp45, r1i1p1\" ;\n",
      "\t\t:driving_model_id = \"CCCma-CanESM2\" ;\n",
      "\t\t:driving_model_ensemble_member = \"r1i1p1\" ;\n",
      "\t\t:driving_experiment_name = \"rcp45\" ;\n",
      "\t\t:frequency = \"day\" ;\n",
      "\t\t:institute_id = \"SMHI\" ;\n",
      "\t\t:model_id = \"SMHI-RCA4\" ;\n",
      "\t\t:rcm_version_id = \"v1\" ;\n",
      "\t\t:project_id = \"CORDEX\" ;\n",
      "\t\t:CORDEX_domain = \"AFR-44\" ;\n",
      "\t\t:product = \"output\" ;\n",
      "\t\t:references = \"http://www.smhi.se/en/Research/Research-departments/climate-research-rossby-centre\" ;\n",
      "\t\t:tracking_id = \"0f789894-b0bf-4e94-8fcd-44ed871a0baf\" ;\n",
      "\t\t:rossby_comment = \"201108: CORDEX Africa 0.44 deg | RCA4 v1 | CCCma-CanESM2 | r1i1p1 | rcp45 | L40\" ;\n",
      "\t\t:rossby_run_id = \"201108\" ;\n",
      "\t\t:rossby_grib_path = \"/nobackup/rossby15/rossby/joint_exp/cordex/201108/raw/\" ;\n",
      "\t\t:CDO = \"Climate Data Operators version 1.9.2 (http://mpimet.mpg.de/cdo)\" ;\n",
      "}\n"
     ]
    }
   ],
   "source": [
    "%%bash\n",
    "# ensemble quotidien mean data\n",
    "ncdump pr_ensmean_rcp45_SMHI-RCA4_v1_day_EAfrica_mmpday.nc -h"
   ]
  },
  {
   "cell_type": "code",
   "execution_count": 2,
   "metadata": {},
   "outputs": [
    {
     "name": "stdout",
     "output_type": "stream",
     "text": [
      "show years of collection:\n",
      " 2006 2007 2008 2009 2010 2011 2012 2013 2014 2015 2016 2017 2018 2019 2020 2021 2022 2023 2024 2025 2026 2027 2028 2029 2030 2031 2032 2033 2034 2035 2036 2037 2038 2039 2040 2041 2042 2043 2044 2045 2046 2047 2048 2049 2050 2051 2052 2053 2054 2055 2056 2057 2058 2059 2060 2061 2062 2063 2064 2065 2066 2067 2068 2069 2070 2071 2072 2073 2074 2075 2076 2077 2078 2079 2080 2081 2082 2083 2084 2085 2086 2087 2088 2089 2090 2091 2092 2093 2094 2095 2096 2097 2098 2099 2100\n",
      "number of years:\n",
      "95\n",
      "number of months:\n",
      "1140\n",
      "number of timesteps:\n",
      "34675\n",
      "number of parameters(expect 1 for precipitation):\n",
      "1\n"
     ]
    },
    {
     "name": "stderr",
     "output_type": "stream",
     "text": [
      "cdo showyear: Processed 1 variable over 34675 timesteps [1.23s 72MB]\n",
      "cdo nyear: Processed 1 variable over 34675 timesteps [1.21s 72MB]\n",
      "cdo nmon: Processed 1 variable over 34675 timesteps [1.25s 72MB]\n",
      "cdo ntime: Processed 1 variable over 34675 timesteps [1.29s 72MB]\n",
      "cdo npar: Processed 1 variable [0.00s 54MB]\n"
     ]
    }
   ],
   "source": [
    "%%bash\n",
    "# view years of collection\n",
    "echo \"show years of collection:\"\n",
    "cdo showyear pr_ensmean_rcp45_SMHI-RCA4_v1_day_EAfrica_mmpday.nc\n",
    "# view number of years\n",
    "echo \"number of years:\"\n",
    "cdo nyear pr_ensmean_rcp45_SMHI-RCA4_v1_day_EAfrica_mmpday.nc\n",
    "# view number of months\n",
    "echo \"number of months:\"\n",
    "cdo nmon pr_ensmean_rcp45_SMHI-RCA4_v1_day_EAfrica_mmpday.nc\n",
    "# view number of timesteps\n",
    "echo \"number of timesteps:\"\n",
    "cdo ntime pr_ensmean_rcp45_SMHI-RCA4_v1_day_EAfrica_mmpday.nc\n",
    "# view number of parameters\n",
    "echo \"number of parameters(expect 1 for precipitation):\"\n",
    "cdo npar pr_ensmean_rcp45_SMHI-RCA4_v1_day_EAfrica_mmpday.nc"
   ]
  },
  {
   "cell_type": "code",
   "execution_count": 3,
   "metadata": {},
   "outputs": [
    {
     "name": "stderr",
     "output_type": "stream",
     "text": [
      "cdo selyear: Started child process \"seasmean pr_ensmean_rcp45_SMHI-RCA4_v1_day_EAfrica_mmpday.nc (pipe1.1)\".\n",
      "cdo(2) seasmean: Processed 138838700 values from 1 variable over 34675 timesteps [2.37s]\n",
      "cdo selyear: Processed 480480 values from 1 variable over 381 timesteps [2.37s 82MB]\n",
      "cdo selyear: Started child process \"seasmean pr_ensmean_rcp45_SMHI-RCA4_v1_day_EAfrica_mmpday.nc (pipe1.1)\".\n",
      "cdo(2) seasmean: Processed 138838700 values from 1 variable over 34675 timesteps [2.37s]\n",
      "cdo selyear: Processed 480480 values from 1 variable over 381 timesteps [2.37s 83MB]\n",
      "cdo selyear: Started child process \"seasmean pr_ensmean_rcp45_SMHI-RCA4_v1_day_EAfrica_mmpday.nc (pipe1.1)\".\n",
      "cdo(2) seasmean: Processed 138838700 values from 1 variable over 34675 timesteps [2.43s]\n",
      "cdo selyear: Processed 484484 values from 1 variable over 381 timesteps [2.43s 82MB]\n"
     ]
    }
   ],
   "source": [
    "%%bash\n",
    "# split by year then season (used pipes to combine operators)\n",
    "# pipes - reduce unnecessary disk I/O, operations computed parallely\n",
    "cdo selyear,2011/2040 -seasmean pr_ensmean_rcp45_SMHI-RCA4_v1_day_EAfrica_mmpday.nc pr_seasmean_2010-2040.nc\n",
    "cdo selyear,2041/2070 -seasmean pr_ensmean_rcp45_SMHI-RCA4_v1_day_EAfrica_mmpday.nc pr_seasmean_2041-2070.nc\n",
    "cdo selyear,2071/2100 -seasmean pr_ensmean_rcp45_SMHI-RCA4_v1_day_EAfrica_mmpday.nc pr_seas_mean_2071-2100.nc \n"
   ]
  },
  {
   "cell_type": "code",
   "execution_count": 4,
   "metadata": {},
   "outputs": [
    {
     "name": "stdout",
     "output_type": "stream",
     "text": [
      "cdo_bash.ipynb\n",
      "cdo_operators.txt\n",
      "pr_ensmean_rcp45_SMHI-RCA4_v1_day_EAfrica_mmpday.nc\n",
      "pr_seasmean_2010-2040.nc\n",
      "pr_seasmean_2041-2070.nc\n",
      "pr_seas_mean_2071-2100.nc\n"
     ]
    }
   ],
   "source": [
    "%%bash\n",
    "ls"
   ]
  },
  {
   "cell_type": "markdown",
   "metadata": {},
   "source": [
    "##### Visualize per set of years"
   ]
  },
  {
   "cell_type": "code",
   "execution_count": 3,
   "metadata": {},
   "outputs": [
    {
     "name": "stdout",
     "output_type": "stream",
     "text": [
      "\n"
     ]
    },
    {
     "name": "stderr",
     "output_type": "stream",
     "text": [
      "cdo graph (Abort): Variable has more than one grid point!\n"
     ]
    }
   ],
   "source": [
    "%%bash\n",
    "cdo -graph pr_seasmean_2010-2040.nc batch1140.jpg"
   ]
  },
  {
   "cell_type": "code",
   "execution_count": null,
   "metadata": {},
   "outputs": [],
   "source": []
  }
 ],
 "metadata": {
  "kernelspec": {
   "display_name": "Python 3",
   "language": "python",
   "name": "python3"
  },
  "language_info": {
   "codemirror_mode": {
    "name": "ipython",
    "version": 3
   },
   "file_extension": ".py",
   "mimetype": "text/x-python",
   "name": "python",
   "nbconvert_exporter": "python",
   "pygments_lexer": "ipython3",
   "version": "3.6.9"
  }
 },
 "nbformat": 4,
 "nbformat_minor": 2
}
